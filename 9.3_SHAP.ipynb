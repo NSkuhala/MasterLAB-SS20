{
  "nbformat": 4,
  "nbformat_minor": 0,
  "metadata": {
    "anaconda-cloud": {},
    "kernelspec": {
      "display_name": "Python 3",
      "language": "python",
      "name": "python3"
    },
    "language_info": {
      "name": "python",
      "version": "3.6.5",
      "mimetype": "text/x-python",
      "codemirror_mode": {
        "name": "ipython",
        "version": 3
      },
      "pygments_lexer": "ipython3",
      "nbconvert_exporter": "python",
      "file_extension": ".py"
    },
    "colab": {
      "name": "9.3_SHAP.ipynb",
      "provenance": []
    }
  },
  "cells": [
    {
      "cell_type": "markdown",
      "metadata": {
        "_uuid": "51b9b35792a863134d05653832ddcfc9b9fc5d55",
        "id": "OT4mq1RJjq7S",
        "colab_type": "text"
      },
      "source": [
        "# Census income classification with Keras\n",
        "\n",
        "To download a copy of this notebook visit [github](https://github.com/slundberg/shap/tree/master/notebooks)."
      ]
    },
    {
      "cell_type": "code",
      "metadata": {
        "trusted": true,
        "_uuid": "6348460e1429f5690a9a674bb424d0e3222c2180",
        "id": "NwoiihI5jq7U",
        "colab_type": "code",
        "colab": {}
      },
      "source": [
        "from sklearn.model_selection import train_test_split\n",
        "from keras.layers import Input, Dense, Flatten, Concatenate, concatenate, Dropout, Lambda\n",
        "from keras.models import Model\n",
        "from keras.layers.embeddings import Embedding\n",
        "from tqdm import tqdm\n",
        "import shap\n",
        "\n",
        "# print the JS visualization code to the notebook\n",
        "shap.initjs()"
      ],
      "execution_count": null,
      "outputs": []
    },
    {
      "cell_type": "markdown",
      "metadata": {
        "_uuid": "b0341c8c8a042cfdb8025a6cf3085680a5f29bb8",
        "id": "36SBsawBjq7a",
        "colab_type": "text"
      },
      "source": [
        "## Load dataset"
      ]
    },
    {
      "cell_type": "code",
      "metadata": {
        "trusted": true,
        "_uuid": "a2dfb6995f1861cb752180e0c0510f2a850f0077",
        "id": "_J0QX5kUjq7a",
        "colab_type": "code",
        "colab": {}
      },
      "source": [
        "import pandas as pd"
      ],
      "execution_count": null,
      "outputs": []
    },
    {
      "cell_type": "code",
      "metadata": {
        "trusted": true,
        "_uuid": "ea7795557158ad2e532c37ea1be9ac63c6a6922d",
        "id": "a3plS_DCjq7g",
        "colab_type": "code",
        "colab": {}
      },
      "source": [
        "df = pd.read_csv('../input/adult.csv')"
      ],
      "execution_count": null,
      "outputs": []
    },
    {
      "cell_type": "code",
      "metadata": {
        "trusted": true,
        "_uuid": "2e19963a553fbd4999320513c7692300cb82f458",
        "id": "Akjpa0d-jq7j",
        "colab_type": "code",
        "colab": {}
      },
      "source": [
        "df.head()"
      ],
      "execution_count": null,
      "outputs": []
    },
    {
      "cell_type": "code",
      "metadata": {
        "trusted": true,
        "_uuid": "0bbc6f358f02f1532e5f51948c7a17acc5a867a3",
        "id": "sULOUiqGjq7n",
        "colab_type": "code",
        "colab": {}
      },
      "source": [
        "df.dtypes"
      ],
      "execution_count": null,
      "outputs": []
    },
    {
      "cell_type": "code",
      "metadata": {
        "trusted": true,
        "_uuid": "b0337930f39dcc955467584298d284c9d372f627",
        "id": "yxGQzVB4jq7q",
        "colab_type": "code",
        "colab": {}
      },
      "source": [
        "X_display = df.drop('income',axis=1)\n",
        "y_display = df['income']"
      ],
      "execution_count": null,
      "outputs": []
    },
    {
      "cell_type": "code",
      "metadata": {
        "trusted": true,
        "_uuid": "63d119fdcc100b22fef39e98ca4493b14c5c52b8",
        "id": "x05Jf5DLjq7u",
        "colab_type": "code",
        "colab": {}
      },
      "source": [
        "int_columns = df.select_dtypes(['int64']).columns\n",
        "df[int_columns] = df[int_columns].astype('float32')\n",
        "\n",
        "cat_columns = df.select_dtypes(['object']).columns\n",
        "df[cat_columns] = df[cat_columns].astype('category')\n",
        "df[cat_columns] = df[cat_columns].apply(lambda x: x.cat.codes)"
      ],
      "execution_count": null,
      "outputs": []
    },
    {
      "cell_type": "code",
      "metadata": {
        "trusted": true,
        "_uuid": "1daf6acd6e8e7e9d3eb751472475934a3f99ee90",
        "id": "bTn62tjnjq7x",
        "colab_type": "code",
        "colab": {}
      },
      "source": [
        "X = df.drop('income',axis=1)\n",
        "y = df['income']"
      ],
      "execution_count": null,
      "outputs": []
    },
    {
      "cell_type": "code",
      "metadata": {
        "trusted": true,
        "_uuid": "1c51d6e50a753206296a2660ffc14f4f4817c4fd",
        "id": "ACmpc9CEjq71",
        "colab_type": "code",
        "colab": {}
      },
      "source": [
        "#X,y = shap.datasets.adult()\n",
        "#X_display,y_display = shap.datasets.adult(display=True)\n",
        "\n",
        "# normalize data (this is important for model convergence)\n",
        "dtypes = list(zip(X.dtypes.index, map(str, X.dtypes)))\n",
        "for k,dtype in dtypes:\n",
        "    if dtype == \"float32\":\n",
        "        X[k] -= X[k].mean()\n",
        "        X[k] /= X[k].std()\n",
        "\n",
        "X_train, X_valid, y_train, y_valid = train_test_split(X, y, test_size=0.2, random_state=7)"
      ],
      "execution_count": null,
      "outputs": []
    },
    {
      "cell_type": "code",
      "metadata": {
        "trusted": true,
        "_uuid": "33985f54eb3c6b51b856319b23e994bdfe65b9e0",
        "id": "x0d2jGHljq75",
        "colab_type": "code",
        "colab": {}
      },
      "source": [
        "X.head()"
      ],
      "execution_count": null,
      "outputs": []
    },
    {
      "cell_type": "markdown",
      "metadata": {
        "_uuid": "306fd19253fc1d632983032997cbc1912b56f1ec",
        "id": "Q6v-ODUcjq78",
        "colab_type": "text"
      },
      "source": [
        "## Train Keras model"
      ]
    },
    {
      "cell_type": "code",
      "metadata": {
        "scrolled": true,
        "trusted": true,
        "_uuid": "87f3b8d1dec4511815b14254e653128cdc251d2f",
        "id": "ytsVzfCxjq78",
        "colab_type": "code",
        "colab": {}
      },
      "source": [
        "# build model\n",
        "input_els = []\n",
        "encoded_els = []\n",
        "for k,dtype in dtypes:\n",
        "    input_els.append(Input(shape=(1,)))\n",
        "    if dtype == \"int8\":\n",
        "        e = Flatten()(Embedding(X_train[k].max()+1, 1)(input_els[-1]))\n",
        "    else:\n",
        "        e = input_els[-1]\n",
        "    encoded_els.append(e)\n",
        "encoded_els = concatenate(encoded_els)\n",
        "layer1 = Dropout(0.5)(Dense(100, activation=\"relu\")(encoded_els))\n",
        "out = Dense(1)(layer1)\n",
        "\n",
        "# train model\n",
        "regression = Model(inputs=input_els, outputs=[out])\n",
        "regression.compile(optimizer=\"adam\", loss='binary_crossentropy')\n",
        "regression.fit(\n",
        "    [X_train[k].values for k,t in dtypes],\n",
        "    y_train,\n",
        "    epochs=50,\n",
        "    batch_size=512,\n",
        "    shuffle=True,\n",
        "    validation_data=([X_valid[k].values for k,t in dtypes], y_valid)\n",
        ")"
      ],
      "execution_count": null,
      "outputs": []
    },
    {
      "cell_type": "markdown",
      "metadata": {
        "_uuid": "0b40c91ff32d2827687563dc4acf4dbac96632ec",
        "id": "b-B0VXtxjq7_",
        "colab_type": "text"
      },
      "source": [
        "## Explain predictions\n",
        "\n",
        "Here we take the Keras model trained above and explain why it makes different predictions for different individuals. SHAP expects model functions to take a 2D numpy array as input, so we define a wrapper function around the original Keras predict function."
      ]
    },
    {
      "cell_type": "code",
      "metadata": {
        "trusted": true,
        "_uuid": "e34ed91bdcff6a302d6bd63e25865562b5312c3b",
        "id": "JWcM7Y8Sjq8A",
        "colab_type": "code",
        "colab": {}
      },
      "source": [
        "def f(X):\n",
        "    return regression.predict([X[:,i] for i in range(X.shape[1])]).flatten()"
      ],
      "execution_count": null,
      "outputs": []
    },
    {
      "cell_type": "markdown",
      "metadata": {
        "_uuid": "294a0b684b28ac377ea5149261e304a66653c91b",
        "id": "2oWuQnZ3jq8D",
        "colab_type": "text"
      },
      "source": [
        "### Explain a single prediction\n",
        "\n",
        "Here we use a selection of 50 samples from the dataset to represent \"typical\" feature values, and then use 500 perterbation samples to estimate the SHAP values for a given prediction. Note that this requires 500 * 50 evaluations of the model."
      ]
    },
    {
      "cell_type": "code",
      "metadata": {
        "trusted": true,
        "_uuid": "9a064f9e15039c5701e70c91a6d660338d1dd037",
        "id": "osmcVxtsjq8E",
        "colab_type": "code",
        "colab": {}
      },
      "source": [
        "explainer = shap.KernelExplainer(f, X.iloc[:100,:])\n",
        "shap_values = explainer.shap_values(X.iloc[350,:], nsamples=500)\n",
        "shap.force_plot(shap_values, X_display.iloc[350,:])"
      ],
      "execution_count": null,
      "outputs": []
    },
    {
      "cell_type": "code",
      "metadata": {
        "trusted": true,
        "_uuid": "1fda8fb62140b0cf9364db4effbe65553c2450ea",
        "id": "59dofmP3jq8I",
        "colab_type": "code",
        "colab": {}
      },
      "source": [
        "shap_values = explainer.shap_values(X.iloc[167,:], nsamples=500)\n",
        "shap.force_plot(shap_values, X_display.iloc[167,:])"
      ],
      "execution_count": null,
      "outputs": []
    },
    {
      "cell_type": "markdown",
      "metadata": {
        "_uuid": "655321b925d8c4f728552145a026d4b380c3b88a",
        "id": "MxOalw88jq8M",
        "colab_type": "text"
      },
      "source": [
        "### Explain many predictions\n",
        "\n",
        "Here we repeat the above explanation process for 50 individuals. Since we are using a sampling based approximation each explanation can take a couple seconds depending on your machine setup."
      ]
    },
    {
      "cell_type": "code",
      "metadata": {
        "trusted": true,
        "_uuid": "b7a22507b6192e8b57e414711fdd66bdcf07fd0c",
        "id": "lX_I6IRLjq8M",
        "colab_type": "code",
        "colab": {}
      },
      "source": [
        "shap_values = explainer.shap_values(X.iloc[100:330,:], nsamples=500)"
      ],
      "execution_count": null,
      "outputs": []
    },
    {
      "cell_type": "code",
      "metadata": {
        "trusted": true,
        "_uuid": "a1bd82f19f873a46faf276d4cfaf2324ae8d275b",
        "id": "2oX7Jwwkjq8Q",
        "colab_type": "code",
        "colab": {}
      },
      "source": [
        "shap.force_plot(shap_values, X_display.iloc[100:330,:])"
      ],
      "execution_count": null,
      "outputs": []
    },
    {
      "cell_type": "code",
      "metadata": {
        "trusted": true,
        "_uuid": "7835b6813b830531c6ef075d5a8fabe4650bf4ba",
        "id": "MXl9q7nOjq8U",
        "colab_type": "code",
        "colab": {}
      },
      "source": [
        "shap.summary_plot(shap_values50, X.iloc[100:330,:])"
      ],
      "execution_count": null,
      "outputs": []
    },
    {
      "cell_type": "code",
      "metadata": {
        "trusted": true,
        "_uuid": "9e8c0b215a7420d5cc19a66be46657f1664a9250",
        "id": "g9kp7xfejq8X",
        "colab_type": "code",
        "colab": {}
      },
      "source": [
        "shap.dependence_plot(\"marital.status\", \n",
        "                     shap_values, \n",
        "                     X.iloc[100:330,:], \n",
        "                     display_features=X_display.iloc[100:330,:])"
      ],
      "execution_count": null,
      "outputs": []
    },
    {
      "cell_type": "code",
      "metadata": {
        "trusted": true,
        "_uuid": "0c69511164b8753e8cb5e34c7dcbd9d23c246e4d",
        "id": "UXhRAGJIjq8e",
        "colab_type": "code",
        "colab": {}
      },
      "source": [
        ""
      ],
      "execution_count": null,
      "outputs": []
    }
  ]
}