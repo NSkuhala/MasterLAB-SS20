{
  "nbformat": 4,
  "nbformat_minor": 0,
  "metadata": {
    "colab": {
      "name": "IR.ipynb",
      "provenance": [],
      "collapsed_sections": [],
      "include_colab_link": true
    },
    "kernelspec": {
      "name": "ir",
      "display_name": "R"
    }
  },
  "cells": [
    {
      "cell_type": "markdown",
      "metadata": {
        "id": "view-in-github",
        "colab_type": "text"
      },
      "source": [
        "<a href=\"https://colab.research.google.com/github/NSkuhala/Test1/blob/master/MLC7.ipynb\" target=\"_parent\"><img src=\"https://colab.research.google.com/assets/colab-badge.svg\" alt=\"Open In Colab\"/></a>"
      ]
    },
    {
      "cell_type": "code",
      "metadata": {
        "id": "27DXQbmpW3Jm",
        "colab_type": "code",
        "colab": {}
      },
      "source": [
        "##### Chapter 7: Neural Networks and Support Vector Machines -------------------\n",
        "\n",
        "##### Part 1: Neural Networks -------------------\n",
        "## Example: Modeling the Strength of Concrete  ----\n"
      ],
      "execution_count": 0,
      "outputs": []
    },
    {
      "cell_type": "code",
      "metadata": {
        "id": "3Euxlq4oW7Fy",
        "colab_type": "code",
        "colab": {}
      },
      "source": [
        "## Step 2: Exploring and preparing the data ----\n",
        "# read in data and examine structure\n",
        "concrete <- read.csv(\"Chapter07/concrete.csv\")\n",
        "str(concrete)\n"
      ],
      "execution_count": 0,
      "outputs": []
    },
    {
      "cell_type": "code",
      "metadata": {
        "id": "w7SYyJp7W_1V",
        "colab_type": "code",
        "colab": {}
      },
      "source": [
        "# custom normalization function\n",
        "normalize <- function(x) { \n",
        "  return((x - min(x)) / (max(x) - min(x)))\n",
        "}"
      ],
      "execution_count": 0,
      "outputs": []
    },
    {
      "cell_type": "code",
      "metadata": {
        "id": "QJ7eG-99W_u_",
        "colab_type": "code",
        "colab": {}
      },
      "source": [
        "# apply normalization to entire data frame\n",
        "concrete_norm <- as.data.frame(lapply(concrete, normalize))"
      ],
      "execution_count": 0,
      "outputs": []
    },
    {
      "cell_type": "code",
      "metadata": {
        "id": "UDotaNKCW_mY",
        "colab_type": "code",
        "colab": {}
      },
      "source": [
        "# confirm that the range is now between zero and one\n",
        "summary(concrete_norm$strength)"
      ],
      "execution_count": 0,
      "outputs": []
    },
    {
      "cell_type": "code",
      "metadata": {
        "id": "6URCOxzQW_gS",
        "colab_type": "code",
        "colab": {}
      },
      "source": [
        "# compared to the original minimum and maximum\n",
        "summary(concrete$strength)"
      ],
      "execution_count": 0,
      "outputs": []
    },
    {
      "cell_type": "code",
      "metadata": {
        "id": "rXKtDt72W_SA",
        "colab_type": "code",
        "colab": {}
      },
      "source": [
        "# create training and test data\n",
        "concrete_train <- concrete_norm[1:773, ]\n",
        "concrete_test <- concrete_norm[774:1030, ]"
      ],
      "execution_count": 0,
      "outputs": []
    },
    {
      "cell_type": "code",
      "metadata": {
        "id": "lX6drYl_W_OZ",
        "colab_type": "code",
        "colab": {}
      },
      "source": [
        "## Step 3: Training a model on the data ----\n",
        "# train the neuralnet model\n",
        "library(neuralnet)"
      ],
      "execution_count": 0,
      "outputs": []
    },
    {
      "cell_type": "code",
      "metadata": {
        "id": "GS5BCzYCW_KU",
        "colab_type": "code",
        "colab": {}
      },
      "source": [
        "# simple ANN with only a single hidden neuron\n",
        "set.seed(12345) # to guarantee repeatable results\n",
        "concrete_model <- neuralnet(formula = strength ~ cement + slag +\n",
        "                              ash + water + superplastic + \n",
        "                              coarseagg + fineagg + age,\n",
        "                              data = concrete_train)\n"
      ],
      "execution_count": 0,
      "outputs": []
    },
    {
      "cell_type": "code",
      "metadata": {
        "id": "77jvMsi8W_JH",
        "colab_type": "code",
        "colab": {}
      },
      "source": [
        "# visualize the network topology\n",
        "plot(concrete_model)\n"
      ],
      "execution_count": 0,
      "outputs": []
    },
    {
      "cell_type": "code",
      "metadata": {
        "id": "hUXfKxr0W_Dy",
        "colab_type": "code",
        "colab": {}
      },
      "source": [
        "## Step 4: Evaluating model performance ----\n",
        "# obtain model results\n",
        "model_results <- compute(concrete_model, concrete_test[1:8])"
      ],
      "execution_count": 0,
      "outputs": []
    },
    {
      "cell_type": "code",
      "metadata": {
        "id": "awdz_msCW_CS",
        "colab_type": "code",
        "colab": {}
      },
      "source": [
        "# obtain predicted strength values\n",
        "predicted_strength <- model_results$net.result"
      ],
      "execution_count": 0,
      "outputs": []
    },
    {
      "cell_type": "code",
      "metadata": {
        "id": "Cp1vKd2XW-6D",
        "colab_type": "code",
        "colab": {}
      },
      "source": [
        "# examine the correlation between predicted and actual values\n",
        "cor(predicted_strength, concrete_test$strength)"
      ],
      "execution_count": 0,
      "outputs": []
    },
    {
      "cell_type": "code",
      "metadata": {
        "id": "FNhN-3dbW-2q",
        "colab_type": "code",
        "colab": {}
      },
      "source": [
        "## Step 5: Improving model performance ----\n",
        "# a more complex neural network topology with 5 hidden neurons\n",
        "set.seed(12345) # to guarantee repeatable results\n",
        "concrete_model2 <- neuralnet(strength ~ cement + slag +\n",
        "                               ash + water + superplastic + \n",
        "                               coarseagg + fineagg + age,\n",
        "                               data = concrete_train, hidden = 5)\n"
      ],
      "execution_count": 0,
      "outputs": []
    },
    {
      "cell_type": "code",
      "metadata": {
        "id": "IaL1GVadW-zA",
        "colab_type": "code",
        "colab": {}
      },
      "source": [
        "# plot the network\n",
        "plot(concrete_model2)"
      ],
      "execution_count": 0,
      "outputs": []
    },
    {
      "cell_type": "code",
      "metadata": {
        "id": "K7TasZseW-u9",
        "colab_type": "code",
        "colab": {}
      },
      "source": [
        "# evaluate the results as we did before\n",
        "model_results2 <- compute(concrete_model2, concrete_test[1:8])\n",
        "predicted_strength2 <- model_results2$net.result\n",
        "cor(predicted_strength2, concrete_test$strength)"
      ],
      "execution_count": 0,
      "outputs": []
    },
    {
      "cell_type": "code",
      "metadata": {
        "id": "pICj3z4eW-rB",
        "colab_type": "code",
        "colab": {}
      },
      "source": [
        "# an EVEN MORE complex neural network topology with two hidden layers and custom activation function\n"
      ],
      "execution_count": 0,
      "outputs": []
    },
    {
      "cell_type": "code",
      "metadata": {
        "id": "fSQgPZhFW-k4",
        "colab_type": "code",
        "colab": {}
      },
      "source": [
        "# create a custom softplus activation function\n",
        "softplus <- function(x) { log(1 + exp(x)) }\n",
        "\n",
        "set.seed(12345) # to guarantee repeatable results\n",
        "concrete_model3 <- neuralnet(strength ~ cement + slag +\n",
        "                               ash + water + superplastic + \n",
        "                               coarseagg + fineagg + age,\n",
        "                             data = concrete_train, hidden = c(5, 5), act.fct = softplus)\n"
      ],
      "execution_count": 0,
      "outputs": []
    },
    {
      "cell_type": "code",
      "metadata": {
        "id": "Gjs0GnGBW-h0",
        "colab_type": "code",
        "colab": {}
      },
      "source": [
        "# plot the network\n",
        "plot(concrete_model3)"
      ],
      "execution_count": 0,
      "outputs": []
    },
    {
      "cell_type": "code",
      "metadata": {
        "id": "xBJWTOLUW-ea",
        "colab_type": "code",
        "colab": {}
      },
      "source": [
        "# evaluate the results as we did before\n",
        "model_results3 <- compute(concrete_model3, concrete_test[1:8])\n",
        "predicted_strength3 <- model_results3$net.result\n",
        "cor(predicted_strength3, concrete_test$strength)"
      ],
      "execution_count": 0,
      "outputs": []
    },
    {
      "cell_type": "code",
      "metadata": {
        "id": "xvL93S-mW-bp",
        "colab_type": "code",
        "colab": {}
      },
      "source": [
        "# note that the predicted and actual values are on different scales\n",
        "strengths <- data.frame(\n",
        "  actual = concrete$strength[774:1030],\n",
        "  pred = predicted_strength3\n",
        ")\n",
        "\n",
        "head(strengths, n = 3)\n"
      ],
      "execution_count": 0,
      "outputs": []
    },
    {
      "cell_type": "code",
      "metadata": {
        "id": "y1J-CRisW-X9",
        "colab_type": "code",
        "colab": {}
      },
      "source": [
        "# this doesn't change the correlations (but would affect absolute error)\n",
        "cor(strengths$pred, strengths$actual)\n"
      ],
      "execution_count": 0,
      "outputs": []
    },
    {
      "cell_type": "code",
      "metadata": {
        "id": "Bm8e6xkLW-V6",
        "colab_type": "code",
        "colab": {}
      },
      "source": [
        "# create an unnormalize function to reverse the normalization\n",
        "unnormalize <- function(x) { \n",
        "  return((x * (max(concrete$strength)) -\n",
        "          min(concrete$strength)) + min(concrete$strength))\n",
        "}\n",
        "\n",
        "strengths$pred_new <- unnormalize(strengths$pred)\n",
        "strengths$error <- strengths$pred_new - strengths$actual\n",
        "\n",
        "head(strengths, n = 3)\n",
        "\n",
        "cor(strengths$pred_new, strengths$actual)\n"
      ],
      "execution_count": 0,
      "outputs": []
    },
    {
      "cell_type": "code",
      "metadata": {
        "id": "cxMy5qk-W-QR",
        "colab_type": "code",
        "colab": {}
      },
      "source": [
        "##### Part 2: Support Vector Machines -------------------\n",
        "## Example: Optical Character Recognition ----\n"
      ],
      "execution_count": 0,
      "outputs": []
    },
    {
      "cell_type": "code",
      "metadata": {
        "id": "FffknOSEW-E3",
        "colab_type": "code",
        "colab": {}
      },
      "source": [
        "## Step 2: Exploring and preparing the data ----\n",
        "# read in data and examine structure\n",
        "letters <- read.csv(\"letterdata.csv\")\n",
        "str(letters)\n"
      ],
      "execution_count": 0,
      "outputs": []
    },
    {
      "cell_type": "code",
      "metadata": {
        "id": "2BsO2foIW9ne",
        "colab_type": "code",
        "colab": {}
      },
      "source": [
        "# divide into training and test data\n",
        "letters_train <- letters[1:16000, ]\n",
        "letters_test  <- letters[16001:20000, ]"
      ],
      "execution_count": 0,
      "outputs": []
    },
    {
      "cell_type": "code",
      "metadata": {
        "id": "ttmKk_E7X4hh",
        "colab_type": "code",
        "colab": {}
      },
      "source": [
        "## Step 3: Training a model on the data ----\n",
        "# begin by training a simple linear SVM\n",
        "library(kernlab)\n",
        "letter_classifier <- ksvm(letter ~ ., data = letters_train,\n",
        "                          kernel = \"vanilladot\")\n"
      ],
      "execution_count": 0,
      "outputs": []
    },
    {
      "cell_type": "code",
      "metadata": {
        "id": "AdENOJiJX4f7",
        "colab_type": "code",
        "colab": {}
      },
      "source": [
        "# look at basic information about the model\n",
        "letter_classifier\n"
      ],
      "execution_count": 0,
      "outputs": []
    },
    {
      "cell_type": "code",
      "metadata": {
        "id": "tRwUnSSrX4UK",
        "colab_type": "code",
        "colab": {}
      },
      "source": [
        "## Step 4: Evaluating model performance ----\n",
        "# predictions on testing dataset\n",
        "letter_predictions <- predict(letter_classifier, letters_test)\n",
        "\n",
        "head(letter_predictions)\n",
        "\n",
        "table(letter_predictions, letters_test$letter)"
      ],
      "execution_count": 0,
      "outputs": []
    },
    {
      "cell_type": "code",
      "metadata": {
        "id": "jUYvV_twX4Sj",
        "colab_type": "code",
        "colab": {}
      },
      "source": [
        "# look only at agreement vs. non-agreement\n",
        "# construct a vector of TRUE/FALSE indicating correct/incorrect predictions\n",
        "agreement <- letter_predictions == letters_test$letter\n",
        "table(agreement)\n",
        "prop.table(table(agreement))"
      ],
      "execution_count": 0,
      "outputs": []
    },
    {
      "cell_type": "code",
      "metadata": {
        "id": "0wMMeBWMX4RB",
        "colab_type": "code",
        "colab": {}
      },
      "source": [
        "## Step 5: Improving model performance ----\n",
        "\n",
        "# change to a RBF kernel\n",
        "RNGversion(\"3.5.2\") # use an older random number generator to match the book\n",
        "set.seed(12345)\n",
        "letter_classifier_rbf <- ksvm(letter ~ ., data = letters_train, kernel = \"rbfdot\")\n",
        "letter_predictions_rbf <- predict(letter_classifier_rbf, letters_test)\n",
        "\n",
        "agreement_rbf <- letter_predictions_rbf == letters_test$letter\n",
        "table(agreement_rbf)\n",
        "prop.table(table(agreement_rbf))"
      ],
      "execution_count": 0,
      "outputs": []
    },
    {
      "cell_type": "code",
      "metadata": {
        "id": "k2R4Cvy2X4PO",
        "colab_type": "code",
        "colab": {}
      },
      "source": [
        ""
      ],
      "execution_count": 0,
      "outputs": []
    },
    {
      "cell_type": "code",
      "metadata": {
        "id": "KwkjgejzX4GH",
        "colab_type": "code",
        "colab": {}
      },
      "source": [
        "# test various values of the cost parameter\n",
        "cost_values <- c(1, seq(from = 5, to = 40, by = 5))\n",
        "\n",
        "RNGversion(\"3.5.2\") # use an older random number generator to match the book\n",
        "accuracy_values <- sapply(cost_values, function(x) {\n",
        "  set.seed(12345)\n",
        "  m <- ksvm(letter ~ ., data = letters_train,\n",
        "            kernel = \"rbfdot\", C = x)\n",
        "  pred <- predict(m, letters_test)\n",
        "  agree <- ifelse(pred == letters_test$letter, 1, 0)\n",
        "  accuracy <- sum(agree) / nrow(letters_test)\n",
        "  return (accuracy)\n",
        "})\n",
        "\n",
        "plot(cost_values, accuracy_values, type = \"b\")\n"
      ],
      "execution_count": 0,
      "outputs": []
    },
    {
      "cell_type": "code",
      "metadata": {
        "id": "LpZtnl6tX4Eo",
        "colab_type": "code",
        "colab": {}
      },
      "source": [
        ""
      ],
      "execution_count": 0,
      "outputs": []
    },
    {
      "cell_type": "code",
      "metadata": {
        "id": "QZcihgPIX3-u",
        "colab_type": "code",
        "colab": {}
      },
      "source": [
        ""
      ],
      "execution_count": 0,
      "outputs": []
    },
    {
      "cell_type": "code",
      "metadata": {
        "id": "VRYo9AcvX36e",
        "colab_type": "code",
        "colab": {}
      },
      "source": [
        ""
      ],
      "execution_count": 0,
      "outputs": []
    }
  ]
}