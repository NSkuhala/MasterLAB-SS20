{
  "nbformat": 4,
  "nbformat_minor": 0,
  "metadata": {
    "colab": {
      "name": "IR.ipynb",
      "provenance": [],
      "collapsed_sections": [],
      "include_colab_link": true
    },
    "kernelspec": {
      "name": "ir",
      "display_name": "R"
    }
  },
  "cells": [
    {
      "cell_type": "markdown",
      "metadata": {
        "id": "view-in-github",
        "colab_type": "text"
      },
      "source": [
        "<a href=\"https://colab.research.google.com/github/NSkuhala/Test1/blob/master/MLC7.ipynb\" target=\"_parent\"><img src=\"https://colab.research.google.com/assets/colab-badge.svg\" alt=\"Open In Colab\"/></a>"
      ]
    },
    {
      "cell_type": "markdown",
      "metadata": {
        "id": "rqG58R3gcpzN",
        "colab_type": "text"
      },
      "source": [
        "***\n",
        "Chapter 7 includes Black Box Methods - Neural Networks and Support Vector Machines. Note that the original text features far more content, in particular further explanations and figures: in this notebook, you will only find source code and related comments.\n",
        "***\n",
        "In machine learning some methods may appear at first glance to be magic. In engineering, these are referred to as black box processes. Such processes transfroms an input into an output in a magical way. \n",
        "***\n",
        "At first we will have a look at artificial neural networks (ANN). ANNs model the  relationship between a set of input signals and an output signal. These models are derived from our understanding of the human brain and are applied to several real-world problems like \n",
        "*  Speech, handwirting and image recognition programs\n",
        "*   Automation of smart devices like office building's environmental controls, self-driving cars and self-piloting drones\n",
        "*   Sophisticated models of waeather and climate patterns\n",
        "\n",
        "Conceptual model of human brain activity.\n",
        "Incoming signals are received by the cell's dendrites. Theis process allows the impuls to be weighted according to its relative importance or frequency. The cellbody begins to accumulate the incoming signals till a threshold is reaches. At this point the cell fires an output signal wich will be transmitted down th axon. Finally the electric signal is again processed to be the output.\n",
        "Applying this to machine learning we will find the input signals as *x* variables and the output signal as *y* variable. For each dendrite the input signal is weighted according to its importance. The summed input signals in the cell body than will be passed on according to an activation function denoted by *f*.\n",
        "\n",
        "$$y(x)=f(\\sum_{i=1}^{n} w_{i}x_{i})$$\n",
        "\n",
        "Each ANN can differ in respect to the following characteristics\n",
        "\n",
        "\n",
        "*   **Activation function**, transforms a neuron's net input signal into a single output signal\n",
        "*   **Network topology**, describes the number of neurons and number of layers in the model and the manner in which they are connected\n",
        "*   **Training algorithm**, specifies how connection weights are set in order to inhibit or excite neurons in proportion to the input signal\n",
        "\n",
        "***\n",
        "**Activation function**\n",
        "\n",
        "Is the mechanism by which the artifictial neuron procsses incoming information and passes it throughout the network. If by summing up the input signals the fireing threshold is exceeded, the neuron passes on the signal; otherwise, it doesn't. There are numerous alternatives of the activation function (Linear / Satrated / Hyperbolic Tangent / Gaussian / Sigmod) Latter is the most common used. The primary detail that differentiates these activation functions is the output signals range. \n",
        "\n",
        "**Networtk topology**\n",
        "\n",
        "The capacity to learn is rooted in its topology. It can differ by three key characteristics\n",
        "*   The numbers of layers\n",
        "*   Wether information in the network is allowed to travel backward\n",
        "*   The number of nodes within each layer of the network\n",
        "It determines the complexity of the tasks that can be learned by the network. \n",
        "\n",
        "A bit of terminology is needed to distinguish Artificial neurons based on their position in the network.\n",
        "\n",
        "The input nodes receive unprocessed signals directly from the input data. 1 input node for 1 single feature in the dataset. The feature's value will be transformed by the corresponding node's activation function and wil be received by the output node, which than uses its own activation function to generate a final prediction.\n",
        "Input and output nodes are arranged in groups known as layers. As more complex the network is, the more layers are added. Those multiple hidden layers networks are called deep neural network (DNN)\n",
        "\n",
        "*Direction of information travel*\n",
        "\n",
        "Feedforward networks, the input signal is fed continously in one direction to the output layer.\n",
        "In contrast there arefeedback network allows signals to travel backward using loops. It allows extremely complex patterns to be learnd. \n",
        "\n",
        "\n",
        "*Number of nodes*\n",
        "\n",
        "The number of nodes is predetermined by the number of features in the input data. Similary, the number of output nodes is prdetermined by the number of outcomes. The numbers of hidden layers is in yours choice. There is no reliable rule to determine the layers. In general, more complex more layers\n",
        "\n",
        "***\n",
        "The following lines of code showes an example of how modeling th estrength of concrete with ANNs"
      ]
    },
    {
      "cell_type": "code",
      "metadata": {
        "id": "3Euxlq4oW7Fy",
        "colab_type": "code",
        "outputId": "aa052d67-9329-4318-974f-3301bb4d3358",
        "colab": {
          "base_uri": "https://localhost:8080/",
          "height": 187
        }
      },
      "source": [
        "\n",
        "concrete <- read.csv(\"https://raw.githubusercontent.com/NSkuhala/Test1/master/concrete.csv\")\n",
        "str(concrete)\n"
      ],
      "execution_count": 0,
      "outputs": [
        {
          "output_type": "stream",
          "text": [
            "'data.frame':\t1030 obs. of  9 variables:\n",
            " $ cement      : num  141 169 250 266 155 ...\n",
            " $ slag        : num  212 42.2 0 114 183.4 ...\n",
            " $ ash         : num  0 124.3 95.7 0 0 ...\n",
            " $ water       : num  204 158 187 228 193 ...\n",
            " $ superplastic: num  0 10.8 5.5 0 9.1 0 0 6.4 0 9 ...\n",
            " $ coarseagg   : num  972 1081 957 932 1047 ...\n",
            " $ fineagg     : num  748 796 861 670 697 ...\n",
            " $ age         : int  28 14 28 28 28 90 7 56 28 28 ...\n",
            " $ strength    : num  29.9 23.5 29.2 45.9 18.3 ...\n"
          ],
          "name": "stdout"
        }
      ]
    },
    {
      "cell_type": "markdown",
      "metadata": {
        "id": "A2oQm2y0ZQBh",
        "colab_type": "text"
      },
      "source": [
        "You can see that our net dataset has 1030 observation of our 9 variables.\n",
        "8 Variables (features) are components of the concrete which contribute to its strength. The last is the outcoming strength.\n",
        "Due to the fact that our dataset ranges from 0 to over 1000 we have to normalize our dataset at first, because only input data which is scaled to a narrow range around zero woks best in ANNs.\n",
        "\n"
      ]
    },
    {
      "cell_type": "code",
      "metadata": {
        "id": "w7SYyJp7W_1V",
        "colab_type": "code",
        "colab": {}
      },
      "source": [
        "normalize <- function(x) { \n",
        "  return((x - min(x)) / (max(x) - min(x)))\n",
        "}"
      ],
      "execution_count": 0,
      "outputs": []
    },
    {
      "cell_type": "code",
      "metadata": {
        "id": "QJ7eG-99W_u_",
        "colab_type": "code",
        "colab": {}
      },
      "source": [
        "concrete_norm <- as.data.frame(lapply(concrete, normalize))"
      ],
      "execution_count": 0,
      "outputs": []
    },
    {
      "cell_type": "markdown",
      "metadata": {
        "id": "_GMqpNRFbL1R",
        "colab_type": "text"
      },
      "source": [
        "For confirmation, we compare the Min. and Max. of our summaries"
      ]
    },
    {
      "cell_type": "code",
      "metadata": {
        "id": "UDotaNKCW_mY",
        "colab_type": "code",
        "outputId": "53761f3a-b52f-49c4-c3d9-dd7a031ba7e0",
        "colab": {
          "base_uri": "https://localhost:8080/",
          "height": 51
        }
      },
      "source": [
        "summary(concrete_norm$strength)"
      ],
      "execution_count": 0,
      "outputs": [
        {
          "output_type": "display_data",
          "data": {
            "text/plain": [
              "   Min. 1st Qu.  Median    Mean 3rd Qu.    Max. \n",
              " 0.0000  0.2664  0.4001  0.4172  0.5457  1.0000 "
            ]
          },
          "metadata": {
            "tags": []
          }
        }
      ]
    },
    {
      "cell_type": "code",
      "metadata": {
        "id": "6URCOxzQW_gS",
        "colab_type": "code",
        "outputId": "c3526171-6802-4a61-b7a8-30ae1743d598",
        "colab": {
          "base_uri": "https://localhost:8080/",
          "height": 51
        }
      },
      "source": [
        "summary(concrete$strength)"
      ],
      "execution_count": 0,
      "outputs": [
        {
          "output_type": "display_data",
          "data": {
            "text/plain": [
              "   Min. 1st Qu.  Median    Mean 3rd Qu.    Max. \n",
              "   2.33   23.71   34.45   35.82   46.13   82.60 "
            ]
          },
          "metadata": {
            "tags": []
          }
        }
      ]
    },
    {
      "cell_type": "markdown",
      "metadata": {
        "id": "m0CGysJ8bsJs",
        "colab_type": "text"
      },
      "source": [
        "Since the dataset looks reasonable, we split it up into a trainings set (75 % of the data) and a test set ( 25 % of the data). Fortunately the CSV file we used is already sorted randomly."
      ]
    },
    {
      "cell_type": "code",
      "metadata": {
        "id": "rXKtDt72W_SA",
        "colab_type": "code",
        "colab": {}
      },
      "source": [
        "concrete_train <- concrete_norm[1:773, ]\n",
        "concrete_test <- concrete_norm[774:1030, ]"
      ],
      "execution_count": 0,
      "outputs": []
    },
    {
      "cell_type": "markdown",
      "metadata": {
        "id": "Z3Lb8RIycLqw",
        "colab_type": "text"
      },
      "source": [
        "Next step: Train the neuralnet model"
      ]
    },
    {
      "cell_type": "code",
      "metadata": {
        "id": "lX6drYl_W_OZ",
        "colab_type": "code",
        "outputId": "637c6f87-e066-4190-c506-8f6a2280ada0",
        "colab": {
          "base_uri": "https://localhost:8080/",
          "height": 68
        }
      },
      "source": [
        "install.packages(\"neuralnet\")\n",
        "library(neuralnet)"
      ],
      "execution_count": 0,
      "outputs": [
        {
          "output_type": "stream",
          "text": [
            "Installing package into ‘/usr/local/lib/R/site-library’\n",
            "(as ‘lib’ is unspecified)\n",
            "\n"
          ],
          "name": "stderr"
        }
      ]
    },
    {
      "cell_type": "markdown",
      "metadata": {
        "id": "CBTkWvtKcjvP",
        "colab_type": "text"
      },
      "source": [
        "using the neuralnet() functin in the neuralnet package\n",
        "*   target, outcome in the mydata data frame (df)\n",
        "*   predictors, R formula specifying the geatures in the mydata df\n",
        "*   data, df where the target and predictors are found\n",
        "*   hidden, numbers of neurons in the hidden layer (by deafault = 1)\n",
        "*   act.fct, activation function. either \"logistic\" od \"tanh\""
      ]
    },
    {
      "cell_type": "markdown",
      "metadata": {
        "id": "jJezz_d0cTRB",
        "colab_type": "text"
      },
      "source": [
        "At first we will run our model with a single hidden node.\n",
        "Also execute set.seed(12345) for an exactly match of the outcome compared to the book, because neural networks begins with random weights."
      ]
    },
    {
      "cell_type": "code",
      "metadata": {
        "id": "GS5BCzYCW_KU",
        "colab_type": "code",
        "colab": {}
      },
      "source": [
        "set.seed(12345)\n",
        "concrete_model <- neuralnet(formula = strength ~ cement + slag +\n",
        "                              ash + water + superplastic + \n",
        "                              coarseagg + fineagg + age,\n",
        "                              data = concrete_train)\n"
      ],
      "execution_count": 0,
      "outputs": []
    },
    {
      "cell_type": "code",
      "metadata": {
        "id": "77jvMsi8W_JH",
        "colab_type": "code",
        "colab": {}
      },
      "source": [
        "plot(concrete_model)\n"
      ],
      "execution_count": 0,
      "outputs": []
    },
    {
      "cell_type": "markdown",
      "metadata": {
        "id": "q3YISIn-eRbs",
        "colab_type": "text"
      },
      "source": [
        "The weights for each of the connections are depicted, as are the bias terms. The Bias terms are numeric constants that allow the value at the indicated nodes to be shifted upward or downward , much like the intercept in a linear equation. At the bottom, R reports the number of training steps and an error measure, caed the sum of squared errors (SSE) The lower the SSE, the more closely the model conforms the training gata"
      ]
    },
    {
      "cell_type": "markdown",
      "metadata": {
        "id": "_Kz93hzFfyJO",
        "colab_type": "text"
      },
      "source": [
        "For predictions we use the compute() function"
      ]
    },
    {
      "cell_type": "code",
      "metadata": {
        "id": "hUXfKxr0W_Dy",
        "colab_type": "code",
        "colab": {}
      },
      "source": [
        "model_results <- compute(concrete_model, concrete_test[1:8])"
      ],
      "execution_count": 0,
      "outputs": []
    },
    {
      "cell_type": "code",
      "metadata": {
        "id": "awdz_msCW_CS",
        "colab_type": "code",
        "colab": {}
      },
      "source": [
        "predicted_strength <- model_results$net.result"
      ],
      "execution_count": 0,
      "outputs": []
    },
    {
      "cell_type": "code",
      "metadata": {
        "id": "Cp1vKd2XW-6D",
        "colab_type": "code",
        "outputId": "0161c425-579b-46c7-8173-a115be6a1638",
        "colab": {
          "base_uri": "https://localhost:8080/",
          "height": 91
        }
      },
      "source": [
        "cor(predicted_strength, concrete_test$strength)"
      ],
      "execution_count": 0,
      "outputs": [
        {
          "output_type": "display_data",
          "data": {
            "text/plain": [
              "     [,1]     \n",
              "[1,] 0.8064656"
            ],
            "text/latex": "A matrix: 1 × 1 of type dbl\n\\begin{tabular}{l}\n\t 0.8064656\\\\\n\\end{tabular}\n",
            "text/markdown": "\nA matrix: 1 × 1 of type dbl\n\n| 0.8064656 |\n\n",
            "text/html": [
              "<table>\n",
              "<caption>A matrix: 1 × 1 of type dbl</caption>\n",
              "<tbody>\n",
              "\t<tr><td>0.8064656</td></tr>\n",
              "</tbody>\n",
              "</table>\n"
            ]
          },
          "metadata": {
            "tags": []
          }
        }
      ]
    },
    {
      "cell_type": "markdown",
      "metadata": {
        "id": "OHvFA_9MgNvY",
        "colab_type": "text"
      },
      "source": [
        "We see that there is a fairly strong relationship between our predicted concrete strength and the true value."
      ]
    },
    {
      "cell_type": "markdown",
      "metadata": {
        "id": "SgeCQy0wh7rX",
        "colab_type": "text"
      },
      "source": [
        "In the next step we want to improve our model performance. \n",
        "At first by adding hidden nodes, afterwards by adding more hidden layers and changing the network's activatino funcion"
      ]
    },
    {
      "cell_type": "code",
      "metadata": {
        "id": "FNhN-3dbW-2q",
        "colab_type": "code",
        "colab": {}
      },
      "source": [
        "set.seed(12345)\n",
        "concrete_model2 <- neuralnet(strength ~ cement + slag +\n",
        "                               ash + water + superplastic + \n",
        "                               coarseagg + fineagg + age,\n",
        "                               data = concrete_train, hidden = 5)\n"
      ],
      "execution_count": 0,
      "outputs": []
    },
    {
      "cell_type": "code",
      "metadata": {
        "id": "IaL1GVadW-zA",
        "colab_type": "code",
        "colab": {}
      },
      "source": [
        "plot(concrete_model2)"
      ],
      "execution_count": 0,
      "outputs": []
    },
    {
      "cell_type": "code",
      "metadata": {
        "id": "K7TasZseW-u9",
        "colab_type": "code",
        "outputId": "149106ec-1802-4256-822b-cd80926e9ee3",
        "colab": {
          "base_uri": "https://localhost:8080/",
          "height": 91
        }
      },
      "source": [
        "# evaluate the results as we did before\n",
        "model_results2 <- compute(concrete_model2, concrete_test[1:8])\n",
        "predicted_strength2 <- model_results2$net.result\n",
        "cor(predicted_strength2, concrete_test$strength)"
      ],
      "execution_count": 0,
      "outputs": [
        {
          "output_type": "display_data",
          "data": {
            "text/plain": [
              "     [,1]     \n",
              "[1,] 0.9244533"
            ],
            "text/latex": "A matrix: 1 × 1 of type dbl\n\\begin{tabular}{l}\n\t 0.9244533\\\\\n\\end{tabular}\n",
            "text/markdown": "\nA matrix: 1 × 1 of type dbl\n\n| 0.9244533 |\n\n",
            "text/html": [
              "<table>\n",
              "<caption>A matrix: 1 × 1 of type dbl</caption>\n",
              "<tbody>\n",
              "\t<tr><td>0.9244533</td></tr>\n",
              "</tbody>\n",
              "</table>\n"
            ]
          },
          "metadata": {
            "tags": []
          }
        }
      ]
    },
    {
      "cell_type": "markdown",
      "metadata": {
        "id": "Vv0gqvPcihVF",
        "colab_type": "text"
      },
      "source": [
        "Changing the activatin function"
      ]
    },
    {
      "cell_type": "code",
      "metadata": {
        "id": "fSQgPZhFW-k4",
        "colab_type": "code",
        "colab": {}
      },
      "source": [
        "softplus <- function(x) { log(1 + exp(x)) }"
      ],
      "execution_count": 0,
      "outputs": []
    },
    {
      "cell_type": "code",
      "metadata": {
        "id": "BDOwSRcQirCG",
        "colab_type": "code",
        "colab": {}
      },
      "source": [
        "set.seed(12345)\n",
        "concrete_model3 <- neuralnet(strength ~ cement + slag +\n",
        "                               ash + water + superplastic + \n",
        "                               coarseagg + fineagg + age,\n",
        "                             data = concrete_train, hidden = c(5, 5), act.fct = softplus)"
      ],
      "execution_count": 0,
      "outputs": []
    },
    {
      "cell_type": "code",
      "metadata": {
        "id": "Gjs0GnGBW-h0",
        "colab_type": "code",
        "colab": {}
      },
      "source": [
        "plot(concrete_model3)"
      ],
      "execution_count": 0,
      "outputs": []
    },
    {
      "cell_type": "code",
      "metadata": {
        "id": "xBJWTOLUW-ea",
        "colab_type": "code",
        "colab": {}
      },
      "source": [
        "# evaluate the results as we did before\n",
        "model_results3 <- compute(concrete_model3, concrete_test[1:8])\n",
        "predicted_strength3 <- model_results3$net.result\n",
        "cor(predicted_strength3, concrete_test$strength)"
      ],
      "execution_count": 0,
      "outputs": []
    },
    {
      "cell_type": "markdown",
      "metadata": {
        "id": "zOu6t5R9i8Uu",
        "colab_type": "text"
      },
      "source": [
        "The following code shows a data frame comparing the original dataset's concrete strenght values to their corresponding predictions side-by-side"
      ]
    },
    {
      "cell_type": "code",
      "metadata": {
        "id": "xvL93S-mW-bp",
        "colab_type": "code",
        "colab": {}
      },
      "source": [
        "strengths <- data.frame(\n",
        "  actual = concrete$strength[774:1030],\n",
        "  pred = predicted_strength3\n",
        ")\n",
        "\n",
        "head(strengths, n = 3)\n"
      ],
      "execution_count": 0,
      "outputs": []
    },
    {
      "cell_type": "code",
      "metadata": {
        "id": "y1J-CRisW-X9",
        "colab_type": "code",
        "colab": {}
      },
      "source": [
        "cor(strengths$pred, strengths$actual)\n"
      ],
      "execution_count": 0,
      "outputs": []
    },
    {
      "cell_type": "markdown",
      "metadata": {
        "id": "e1eZuRIqjbT8",
        "colab_type": "text"
      },
      "source": [
        "Reverse the min-max normalization procedure to get back to the original scale"
      ]
    },
    {
      "cell_type": "code",
      "metadata": {
        "id": "Bm8e6xkLW-V6",
        "colab_type": "code",
        "colab": {}
      },
      "source": [
        "unnormalize <- function(x) { \n",
        "  return((x * (max(concrete$strength)) -\n",
        "          min(concrete$strength)) + min(concrete$strength))\n",
        "}"
      ],
      "execution_count": 0,
      "outputs": []
    },
    {
      "cell_type": "markdown",
      "metadata": {
        "id": "4n39F8qDj31U",
        "colab_type": "text"
      },
      "source": [
        "Now, that we're back on similar scale, we can compute again the correlation"
      ]
    },
    {
      "cell_type": "code",
      "metadata": {
        "id": "s50Xmfs7jnUE",
        "colab_type": "code",
        "colab": {}
      },
      "source": [
        "strengths$pred_new <- unnormalize(strengths$pred)\n",
        "strengths$error <- strengths$pred_new - strengths$actual\n",
        "\n",
        "head(strengths, n = 3)\n",
        "\n",
        "cor(strengths$pred_new, strengths$actual)"
      ],
      "execution_count": 0,
      "outputs": []
    },
    {
      "cell_type": "markdown",
      "metadata": {
        "id": "xZ9hJLD4kA2h",
        "colab_type": "text"
      },
      "source": [
        "Correlation about 0.935 -> awesome, good job"
      ]
    },
    {
      "cell_type": "markdown",
      "metadata": {
        "id": "jjp7laSdkOAy",
        "colab_type": "text"
      },
      "source": [
        "In part 2 we're going to talk about Support Vector Machines with the example of optical Character Recognition (OCR)"
      ]
    },
    {
      "cell_type": "code",
      "metadata": {
        "id": "FffknOSEW-E3",
        "colab_type": "code",
        "outputId": "2b165ea2-751e-4af0-f0ee-c9def368e223",
        "colab": {
          "base_uri": "https://localhost:8080/",
          "height": 323
        }
      },
      "source": [
        "\n",
        "letters <- read.csv(\"https://raw.githubusercontent.com/NSkuhala/Test1/master/letterdata.csv\")\n",
        "str(letters)\n"
      ],
      "execution_count": 0,
      "outputs": [
        {
          "output_type": "stream",
          "text": [
            "'data.frame':\t20000 obs. of  17 variables:\n",
            " $ letter: Factor w/ 26 levels \"A\",\"B\",\"C\",\"D\",..: 20 9 4 14 7 19 2 1 10 13 ...\n",
            " $ xbox  : int  2 5 4 7 2 4 4 1 2 11 ...\n",
            " $ ybox  : int  8 12 11 11 1 11 2 1 2 15 ...\n",
            " $ width : int  3 3 6 6 3 5 5 3 4 13 ...\n",
            " $ height: int  5 7 8 6 1 8 4 2 4 9 ...\n",
            " $ onpix : int  1 2 6 3 1 3 4 1 2 7 ...\n",
            " $ xbar  : int  8 10 10 5 8 8 8 8 10 13 ...\n",
            " $ ybar  : int  13 5 6 9 6 8 7 2 6 2 ...\n",
            " $ x2bar : int  0 5 2 4 6 6 6 2 2 6 ...\n",
            " $ y2bar : int  6 4 6 6 6 9 6 2 6 2 ...\n",
            " $ xybar : int  6 13 10 4 6 5 7 8 12 12 ...\n",
            " $ x2ybar: int  10 3 3 4 5 6 6 2 4 1 ...\n",
            " $ xy2bar: int  8 9 7 10 9 6 6 8 8 9 ...\n",
            " $ xedge : int  0 2 3 6 1 0 2 1 1 8 ...\n",
            " $ xedgey: int  8 8 7 10 7 8 8 6 6 1 ...\n",
            " $ yedge : int  0 4 3 2 5 9 7 2 1 1 ...\n",
            " $ yedgex: int  8 10 9 8 10 7 10 7 7 8 ...\n"
          ],
          "name": "stdout"
        }
      ]
    },
    {
      "cell_type": "markdown",
      "metadata": {
        "id": "6cmTlw9rkjED",
        "colab_type": "text"
      },
      "source": [
        "Like bevore, we split the dataset into a training (80%) and test (20%) dataset"
      ]
    },
    {
      "cell_type": "code",
      "metadata": {
        "id": "2BsO2foIW9ne",
        "colab_type": "code",
        "colab": {}
      },
      "source": [
        "letters_train <- letters[1:16000, ]\n",
        "letters_test  <- letters[16001:20000, ]"
      ],
      "execution_count": 0,
      "outputs": []
    },
    {
      "cell_type": "code",
      "metadata": {
        "id": "LI6mGFxOtjhI",
        "colab_type": "code",
        "colab": {
          "base_uri": "https://localhost:8080/",
          "height": 68
        },
        "outputId": "fb407b1c-5d03-4690-f301-eb155b5df685"
      },
      "source": [
        "install.packages(\"kernlab\")\n",
        "library(kernlab)"
      ],
      "execution_count": 42,
      "outputs": [
        {
          "output_type": "stream",
          "text": [
            "Installing package into ‘/usr/local/lib/R/site-library’\n",
            "(as ‘lib’ is unspecified)\n",
            "\n"
          ],
          "name": "stderr"
        }
      ]
    },
    {
      "cell_type": "code",
      "metadata": {
        "id": "ttmKk_E7X4hh",
        "colab_type": "code",
        "outputId": "1f040a40-d659-4ad6-f26d-4f6ff60df196",
        "colab": {
          "base_uri": "https://localhost:8080/",
          "height": 34
        }
      },
      "source": [
        "# begin by training a simple linear SVM\n",
        "letter_classifier <- ksvm(letter ~ ., data = letters_train,\n",
        "                          kernel = \"vanilladot\")\n"
      ],
      "execution_count": 45,
      "outputs": [
        {
          "output_type": "stream",
          "text": [
            " Setting default kernel parameters  \n"
          ],
          "name": "stdout"
        }
      ]
    },
    {
      "cell_type": "code",
      "metadata": {
        "id": "AdENOJiJX4f7",
        "colab_type": "code",
        "colab": {
          "base_uri": "https://localhost:8080/",
          "height": 224
        },
        "outputId": "825d4693-9b7f-4a0e-9096-31ed698c23f4"
      },
      "source": [
        "# look at basic information about the model\n",
        "letter_classifier\n"
      ],
      "execution_count": 46,
      "outputs": [
        {
          "output_type": "display_data",
          "data": {
            "text/plain": [
              "Support Vector Machine object of class \"ksvm\" \n",
              "\n",
              "SV type: C-svc  (classification) \n",
              " parameter : cost C = 1 \n",
              "\n",
              "Linear (vanilla) kernel function. \n",
              "\n",
              "Number of Support Vectors : 7037 \n",
              "\n",
              "Objective Function Value : -14.1746 -20.0072 -23.5628 -6.2009 -7.5524 -32.7694 -49.9786 -18.1824 -62.1111 -32.7284 -16.2209 -32.2837 -28.9777 -51.2195 -13.276 -35.6217 -30.8612 -16.5256 -14.6811 -32.7475 -30.3219 -7.7956 -11.8138 -32.3463 -13.1262 -9.2692 -153.1654 -52.9678 -76.7744 -119.2067 -165.4437 -54.6237 -41.9809 -67.2688 -25.1959 -27.6371 -26.4102 -35.5583 -41.2597 -122.164 -187.9178 -222.0856 -21.4765 -10.3752 -56.3684 -12.2277 -49.4899 -9.3372 -19.2092 -11.1776 -100.2186 -29.1397 -238.0516 -77.1985 -8.3339 -4.5308 -139.8534 -80.8854 -20.3642 -13.0245 -82.5151 -14.5032 -26.7509 -18.5713 -23.9511 -27.3034 -53.2731 -11.4773 -5.12 -13.9504 -4.4982 -3.5755 -8.4914 -40.9716 -49.8182 -190.0269 -43.8594 -44.8667 -45.2596 -13.5561 -17.7664 -87.4105 -107.1056 -37.0245 -30.7133 -112.3218 -32.9619 -27.2971 -35.5836 -17.8586 -5.1391 -43.4094 -7.7843 -16.6785 -58.5103 -159.9936 -49.0782 -37.8426 -32.8002 -74.5249 -133.3423 -11.1638 -5.3575 -12.438 -30.9907 -141.6924 -54.2953 -179.0114 -99.8896 -10.288 -15.1553 -3.7815 -67.6123 -7.696 -88.9304 -47.6448 -94.3718 -70.2733 -71.5057 -21.7854 -12.7657 -7.4383 -23.502 -13.1055 -239.9708 -30.4193 -25.2113 -136.2795 -140.9565 -9.8122 -34.4584 -6.3039 -60.8421 -66.5793 -27.2816 -214.3225 -34.7796 -16.7631 -135.7821 -160.6279 -45.2949 -25.1023 -144.9059 -82.2352 -327.7154 -142.0613 -158.8821 -32.2181 -32.8887 -52.9641 -25.4937 -47.9936 -6.8991 -9.7293 -36.436 -70.3907 -187.7611 -46.9371 -89.8103 -143.4213 -624.3645 -119.2204 -145.4435 -327.7748 -33.3255 -64.0607 -145.4831 -116.5903 -36.2977 -66.3762 -44.8248 -7.5088 -217.9246 -12.9699 -30.504 -2.0369 -6.126 -14.4448 -21.6337 -57.3084 -20.6915 -184.3625 -20.1052 -4.1484 -4.5344 -0.828 -121.4411 -7.9486 -58.5604 -21.4878 -13.5476 -5.646 -15.629 -28.9576 -20.5959 -76.7111 -27.0119 -94.7101 -15.1713 -10.0222 -7.6394 -1.5784 -87.6952 -6.2239 -99.3711 -101.0906 -45.6639 -24.0725 -61.7702 -24.1583 -52.2368 -234.3264 -39.9749 -48.8556 -34.1464 -20.9664 -11.4525 -123.0277 -6.4903 -5.1865 -8.8016 -9.4618 -21.7742 -24.2361 -123.3984 -31.4404 -88.3901 -30.0924 -13.8198 -9.2701 -3.0823 -87.9624 -6.3845 -13.968 -65.0702 -105.523 -13.7403 -13.7625 -50.4223 -2.933 -8.4289 -80.3381 -36.4147 -112.7485 -4.1711 -7.8989 -1.2676 -90.8037 -21.4919 -7.2235 -47.9557 -3.383 -20.433 -64.6138 -45.5781 -56.1309 -6.1345 -18.6307 -2.374 -72.2553 -111.1885 -106.7664 -23.1323 -19.3765 -54.9819 -34.2953 -64.4756 -20.4115 -6.689 -4.378 -59.141 -34.2468 -58.1509 -33.8665 -10.6902 -53.1387 -13.7478 -20.1987 -55.0923 -3.8058 -60.0382 -235.4841 -12.6837 -11.7407 -17.3058 -9.7167 -65.8498 -17.1051 -42.8131 -53.1054 -25.0437 -15.302 -44.0749 -16.9582 -62.9773 -5.204 -5.2963 -86.1704 -3.7209 -6.3445 -1.1264 -122.5771 -23.9041 -355.0145 -31.1013 -32.619 -4.9664 -84.1048 -134.5957 -72.8371 -23.9002 -35.3077 -11.7119 -22.2889 -1.8598 -59.2174 -8.8994 -150.742 -1.8533 -1.9711 -9.9676 -0.5207 -26.9229 -30.429 -5.6289 \n",
              "Training error : 0.130062 "
            ]
          },
          "metadata": {
            "tags": []
          }
        }
      ]
    },
    {
      "cell_type": "code",
      "metadata": {
        "id": "tRwUnSSrX4UK",
        "colab_type": "code",
        "colab": {
          "base_uri": "https://localhost:8080/",
          "height": 1000
        },
        "outputId": "9581edb4-3cc4-45b2-b136-2240f41e26b6"
      },
      "source": [
        "## Step 4: Evaluating model performance ----\n",
        "# predictions on testing dataset\n",
        "letter_predictions <- predict(letter_classifier, letters_test)\n",
        "\n",
        "head(letter_predictions)\n",
        "\n",
        "table(letter_predictions, letters_test$letter)"
      ],
      "execution_count": 47,
      "outputs": [
        {
          "output_type": "display_data",
          "data": {
            "text/plain": [
              "[1] U N V X N H\n",
              "Levels: A B C D E F G H I J K L M N O P Q R S T U V W X Y Z"
            ],
            "text/latex": "\\begin{enumerate*}\n\\item U\n\\item N\n\\item V\n\\item X\n\\item N\n\\item H\n\\end{enumerate*}\n\n\\emph{Levels}: \\begin{enumerate*}\n\\item 'A'\n\\item 'B'\n\\item 'C'\n\\item 'D'\n\\item 'E'\n\\item 'F'\n\\item 'G'\n\\item 'H'\n\\item 'I'\n\\item 'J'\n\\item 'K'\n\\item 'L'\n\\item 'M'\n\\item 'N'\n\\item 'O'\n\\item 'P'\n\\item 'Q'\n\\item 'R'\n\\item 'S'\n\\item 'T'\n\\item 'U'\n\\item 'V'\n\\item 'W'\n\\item 'X'\n\\item 'Y'\n\\item 'Z'\n\\end{enumerate*}\n",
            "text/markdown": "1. U\n2. N\n3. V\n4. X\n5. N\n6. H\n\n\n\n**Levels**: 1. 'A'\n2. 'B'\n3. 'C'\n4. 'D'\n5. 'E'\n6. 'F'\n7. 'G'\n8. 'H'\n9. 'I'\n10. 'J'\n11. 'K'\n12. 'L'\n13. 'M'\n14. 'N'\n15. 'O'\n16. 'P'\n17. 'Q'\n18. 'R'\n19. 'S'\n20. 'T'\n21. 'U'\n22. 'V'\n23. 'W'\n24. 'X'\n25. 'Y'\n26. 'Z'\n\n\n",
            "text/html": [
              "<style>\n",
              ".list-inline {list-style: none; margin:0; padding: 0}\n",
              ".list-inline>li {display: inline-block}\n",
              ".list-inline>li:not(:last-child)::after {content: \"\\00b7\"; padding: 0 .5ex}\n",
              "</style>\n",
              "<ol class=list-inline><li>U</li><li>N</li><li>V</li><li>X</li><li>N</li><li>H</li></ol>\n",
              "\n",
              "<details>\n",
              "\t<summary style=display:list-item;cursor:pointer>\n",
              "\t\t<strong>Levels</strong>:\n",
              "\t</summary>\n",
              "\t<style>\n",
              "\t.list-inline {list-style: none; margin:0; padding: 0}\n",
              "\t.list-inline>li {display: inline-block}\n",
              "\t.list-inline>li:not(:last-child)::after {content: \"\\00b7\"; padding: 0 .5ex}\n",
              "\t</style>\n",
              "\t<ol class=list-inline><li>'A'</li><li>'B'</li><li>'C'</li><li>'D'</li><li>'E'</li><li>'F'</li><li>'G'</li><li>'H'</li><li>'I'</li><li>'J'</li><li>'K'</li><li>'L'</li><li>'M'</li><li>'N'</li><li>'O'</li><li>'P'</li><li>'Q'</li><li>'R'</li><li>'S'</li><li>'T'</li><li>'U'</li><li>'V'</li><li>'W'</li><li>'X'</li><li>'Y'</li><li>'Z'</li></ol>\n",
              "</details>"
            ]
          },
          "metadata": {
            "tags": []
          }
        },
        {
          "output_type": "display_data",
          "data": {
            "text/plain": [
              "                  \n",
              "letter_predictions   A   B   C   D   E   F   G   H   I   J   K   L   M   N   O\n",
              "                 A 144   0   0   0   0   0   0   0   0   1   0   0   1   2   2\n",
              "                 B   0 121   0   5   2   0   1   2   0   0   1   0   1   0   0\n",
              "                 C   0   0 120   0   4   0  10   2   2   0   1   3   0   0   2\n",
              "                 D   2   2   0 156   0   1   3  10   4   3   4   3   0   5   5\n",
              "                 E   0   0   5   0 127   3   1   1   0   0   3   4   0   0   0\n",
              "                 F   0   0   0   0   0 138   2   2   6   0   0   0   0   0   0\n",
              "                 G   1   1   2   1   9   2 123   2   0   0   1   2   1   0   1\n",
              "                 H   0   0   0   1   0   1   0 102   0   2   3   2   3   4  20\n",
              "                 I   0   1   0   0   0   1   0   0 141   8   0   0   0   0   0\n",
              "                 J   0   1   0   0   0   1   0   2   5 128   0   0   0   0   1\n",
              "                 K   1   1   9   0   0   0   2   5   0   0 118   0   0   2   0\n",
              "                 L   0   0   0   0   2   0   1   1   0   0   0 133   0   0   0\n",
              "                 M   0   0   1   1   0   0   1   1   0   0   0   0 135   4   0\n",
              "                 N   0   0   0   0   0   1   0   1   0   0   0   0   0 145   0\n",
              "                 O   1   0   2   1   0   0   1   2   0   1   0   0   0   1  99\n",
              "                 P   0   0   0   1   0   2   1   0   0   0   0   0   0   0   2\n",
              "                 Q   0   0   0   0   0   0   8   2   0   0   0   3   0   0   3\n",
              "                 R   0   7   0   0   1   0   3   8   0   0  13   0   0   1   1\n",
              "                 S   1   1   0   0   1   0   3   0   1   1   0   1   0   0   0\n",
              "                 T   0   0   0   0   3   2   0   0   0   0   1   0   0   0   0\n",
              "                 U   1   0   3   1   0   0   0   2   0   0   0   0   0   0   1\n",
              "                 V   0   0   0   0   0   1   3   4   0   0   0   0   1   2   1\n",
              "                 W   0   0   0   0   0   0   1   0   0   0   0   0   2   0   0\n",
              "                 X   0   1   0   0   2   0   0   1   3   0   1   6   0   0   1\n",
              "                 Y   3   0   0   0   0   0   0   1   0   0   0   0   0   0   0\n",
              "                 Z   2   0   0   0   1   0   0   0   3   4   0   0   0   0   0\n",
              "                  \n",
              "letter_predictions   P   Q   R   S   T   U   V   W   X   Y   Z\n",
              "                 A   0   5   0   1   1   1   0   1   0   0   1\n",
              "                 B   2   2   3   5   0   0   2   0   1   0   0\n",
              "                 C   0   0   0   0   0   0   0   0   0   0   0\n",
              "                 D   3   1   4   0   0   0   0   0   3   3   1\n",
              "                 E   0   2   0  10   0   0   0   0   2   0   3\n",
              "                 F  16   0   0   3   0   0   1   0   1   2   0\n",
              "                 G   2   8   2   4   3   0   0   0   1   0   0\n",
              "                 H   0   2   3   0   3   0   2   0   0   1   0\n",
              "                 I   1   0   0   3   0   0   0   0   5   1   1\n",
              "                 J   1   3   0   2   0   0   0   0   1   0   6\n",
              "                 K   1   0   7   0   1   3   0   0   5   0   0\n",
              "                 L   0   1   0   5   0   0   0   0   0   0   1\n",
              "                 M   0   0   0   0   0   3   0   8   0   0   0\n",
              "                 N   0   0   3   0   0   1   0   2   0   0   0\n",
              "                 O   3   3   0   0   0   3   0   0   0   0   0\n",
              "                 P 130   0   0   0   0   0   0   0   0   1   0\n",
              "                 Q   1 124   0   5   0   0   0   0   0   2   0\n",
              "                 R   1   0 138   0   1   0   1   0   0   0   0\n",
              "                 S   0  14   0 101   3   0   0   0   2   0  10\n",
              "                 T   0   0   0   3 133   1   0   0   0   2   2\n",
              "                 U   0   0   0   0   0 152   0   0   1   1   0\n",
              "                 V   0   3   1   0   0   0 126   1   0   4   0\n",
              "                 W   0   0   0   0   0   4   4 127   0   0   0\n",
              "                 X   0   0   0   1   0   0   0   0 137   1   1\n",
              "                 Y   7   0   0   0   3   0   0   0   0 127   0\n",
              "                 Z   0   0   0  18   3   0   0   0   0   0 132"
            ]
          },
          "metadata": {
            "tags": []
          }
        }
      ]
    },
    {
      "cell_type": "code",
      "metadata": {
        "id": "jUYvV_twX4Sj",
        "colab_type": "code",
        "colab": {
          "base_uri": "https://localhost:8080/",
          "height": 119
        },
        "outputId": "5bf00197-2ceb-4e38-c983-6f353cd85329"
      },
      "source": [
        "# look only at agreement vs. non-agreement\n",
        "# construct a vector of TRUE/FALSE indicating correct/incorrect predictions\n",
        "agreement <- letter_predictions == letters_test$letter\n",
        "table(agreement)\n",
        "prop.table(table(agreement))"
      ],
      "execution_count": 48,
      "outputs": [
        {
          "output_type": "display_data",
          "data": {
            "text/plain": [
              "agreement\n",
              "FALSE  TRUE \n",
              "  643  3357 "
            ]
          },
          "metadata": {
            "tags": []
          }
        },
        {
          "output_type": "display_data",
          "data": {
            "text/plain": [
              "agreement\n",
              "  FALSE    TRUE \n",
              "0.16075 0.83925 "
            ]
          },
          "metadata": {
            "tags": []
          }
        }
      ]
    },
    {
      "cell_type": "code",
      "metadata": {
        "id": "0wMMeBWMX4RB",
        "colab_type": "code",
        "colab": {
          "base_uri": "https://localhost:8080/",
          "height": 153
        },
        "outputId": "286c606f-3ca8-4d87-9449-70b47ba7b42d"
      },
      "source": [
        "## Step 5: Improving model performance ----\n",
        "\n",
        "# change to a RBF kernel\n",
        "RNGversion(\"3.5.2\") # use an older random number generator to match the book\n",
        "set.seed(12345)\n",
        "letter_classifier_rbf <- ksvm(letter ~ ., data = letters_train, kernel = \"rbfdot\")\n",
        "letter_predictions_rbf <- predict(letter_classifier_rbf, letters_test)\n",
        "\n",
        "agreement_rbf <- letter_predictions_rbf == letters_test$letter\n",
        "table(agreement_rbf)\n",
        "prop.table(table(agreement_rbf))"
      ],
      "execution_count": 49,
      "outputs": [
        {
          "output_type": "stream",
          "text": [
            "Warning message in RNGkind(\"Mersenne-Twister\", \"Inversion\", \"Rounding\"):\n",
            "“non-uniform 'Rounding' sampler used”\n"
          ],
          "name": "stderr"
        },
        {
          "output_type": "display_data",
          "data": {
            "text/plain": [
              "agreement_rbf\n",
              "FALSE  TRUE \n",
              "  275  3725 "
            ]
          },
          "metadata": {
            "tags": []
          }
        },
        {
          "output_type": "display_data",
          "data": {
            "text/plain": [
              "agreement_rbf\n",
              "  FALSE    TRUE \n",
              "0.06875 0.93125 "
            ]
          },
          "metadata": {
            "tags": []
          }
        }
      ]
    },
    {
      "cell_type": "code",
      "metadata": {
        "id": "k2R4Cvy2X4PO",
        "colab_type": "code",
        "colab": {}
      },
      "source": [
        ""
      ],
      "execution_count": 0,
      "outputs": []
    },
    {
      "cell_type": "code",
      "metadata": {
        "id": "KwkjgejzX4GH",
        "colab_type": "code",
        "colab": {}
      },
      "source": [
        "# test various values of the cost parameter\n",
        "cost_values <- c(1, seq(from = 5, to = 40, by = 5))\n",
        "\n",
        "RNGversion(\"3.5.2\") # use an older random number generator to match the book\n",
        "accuracy_values <- sapply(cost_values, function(x) {\n",
        "  set.seed(12345)\n",
        "  m <- ksvm(letter ~ ., data = letters_train,\n",
        "            kernel = \"rbfdot\", C = x)\n",
        "  pred <- predict(m, letters_test)\n",
        "  agree <- ifelse(pred == letters_test$letter, 1, 0)\n",
        "  accuracy <- sum(agree) / nrow(letters_test)\n",
        "  return (accuracy)\n",
        "})\n",
        "\n",
        "plot(cost_values, accuracy_values, type = \"b\")\n"
      ],
      "execution_count": 0,
      "outputs": []
    },
    {
      "cell_type": "code",
      "metadata": {
        "id": "LpZtnl6tX4Eo",
        "colab_type": "code",
        "colab": {}
      },
      "source": [
        ""
      ],
      "execution_count": 0,
      "outputs": []
    },
    {
      "cell_type": "code",
      "metadata": {
        "id": "QZcihgPIX3-u",
        "colab_type": "code",
        "colab": {}
      },
      "source": [
        ""
      ],
      "execution_count": 0,
      "outputs": []
    },
    {
      "cell_type": "code",
      "metadata": {
        "id": "VRYo9AcvX36e",
        "colab_type": "code",
        "colab": {}
      },
      "source": [
        ""
      ],
      "execution_count": 0,
      "outputs": []
    }
  ]
}