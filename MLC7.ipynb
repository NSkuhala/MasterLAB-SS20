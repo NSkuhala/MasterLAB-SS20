{
  "nbformat": 4,
  "nbformat_minor": 0,
  "metadata": {
    "colab": {
      "name": "IR.ipynb",
      "provenance": [],
      "collapsed_sections": [],
      "include_colab_link": true
    },
    "kernelspec": {
      "name": "ir",
      "display_name": "R"
    }
  },
  "cells": [
    {
      "cell_type": "markdown",
      "metadata": {
        "id": "view-in-github",
        "colab_type": "text"
      },
      "source": [
        "<a href=\"https://colab.research.google.com/github/NSkuhala/Test1/blob/master/MLC7.ipynb\" target=\"_parent\"><img src=\"https://colab.research.google.com/assets/colab-badge.svg\" alt=\"Open In Colab\"/></a>"
      ]
    },
    {
      "cell_type": "markdown",
      "metadata": {
        "id": "rqG58R3gcpzN",
        "colab_type": "text"
      },
      "source": [
        "##Chapter 7\n",
        "Black box and Support Vector Machines\n"
      ]
    },
    {
      "cell_type": "code",
      "metadata": {
        "id": "27DXQbmpW3Jm",
        "colab_type": "code",
        "colab": {}
      },
      "source": [
        "##### Chapter 7: Neural Networks and Support Vector Machines -------------------\n",
        "\n",
        "##### Part 1: Neural Networks -------------------\n",
        "## Example: Modeling the Strength of Concrete  ----\n"
      ],
      "execution_count": 0,
      "outputs": []
    },
    {
      "cell_type": "code",
      "metadata": {
        "id": "3Euxlq4oW7Fy",
        "colab_type": "code",
        "colab": {
          "base_uri": "https://localhost:8080/",
          "height": 187
        },
        "outputId": "aa052d67-9329-4318-974f-3301bb4d3358"
      },
      "source": [
        "## Step 2: Exploring and preparing the data ----\n",
        "# read in data and examine structure\n",
        "concrete <- read.csv(\"https://raw.githubusercontent.com/NSkuhala/Test1/master/concrete.csv\")\n",
        "str(concrete)\n"
      ],
      "execution_count": 10,
      "outputs": [
        {
          "output_type": "stream",
          "text": [
            "'data.frame':\t1030 obs. of  9 variables:\n",
            " $ cement      : num  141 169 250 266 155 ...\n",
            " $ slag        : num  212 42.2 0 114 183.4 ...\n",
            " $ ash         : num  0 124.3 95.7 0 0 ...\n",
            " $ water       : num  204 158 187 228 193 ...\n",
            " $ superplastic: num  0 10.8 5.5 0 9.1 0 0 6.4 0 9 ...\n",
            " $ coarseagg   : num  972 1081 957 932 1047 ...\n",
            " $ fineagg     : num  748 796 861 670 697 ...\n",
            " $ age         : int  28 14 28 28 28 90 7 56 28 28 ...\n",
            " $ strength    : num  29.9 23.5 29.2 45.9 18.3 ...\n"
          ],
          "name": "stdout"
        }
      ]
    },
    {
      "cell_type": "code",
      "metadata": {
        "id": "w7SYyJp7W_1V",
        "colab_type": "code",
        "colab": {}
      },
      "source": [
        "# custom normalization function\n",
        "normalize <- function(x) { \n",
        "  return((x - min(x)) / (max(x) - min(x)))\n",
        "}"
      ],
      "execution_count": 0,
      "outputs": []
    },
    {
      "cell_type": "code",
      "metadata": {
        "id": "QJ7eG-99W_u_",
        "colab_type": "code",
        "colab": {}
      },
      "source": [
        "# apply normalization to entire data frame\n",
        "concrete_norm <- as.data.frame(lapply(concrete, normalize))"
      ],
      "execution_count": 0,
      "outputs": []
    },
    {
      "cell_type": "code",
      "metadata": {
        "id": "UDotaNKCW_mY",
        "colab_type": "code",
        "colab": {
          "base_uri": "https://localhost:8080/",
          "height": 51
        },
        "outputId": "53761f3a-b52f-49c4-c3d9-dd7a031ba7e0"
      },
      "source": [
        "# confirm that the range is now between zero and one\n",
        "summary(concrete_norm$strength)"
      ],
      "execution_count": 16,
      "outputs": [
        {
          "output_type": "display_data",
          "data": {
            "text/plain": [
              "   Min. 1st Qu.  Median    Mean 3rd Qu.    Max. \n",
              " 0.0000  0.2664  0.4001  0.4172  0.5457  1.0000 "
            ]
          },
          "metadata": {
            "tags": []
          }
        }
      ]
    },
    {
      "cell_type": "code",
      "metadata": {
        "id": "6URCOxzQW_gS",
        "colab_type": "code",
        "colab": {
          "base_uri": "https://localhost:8080/",
          "height": 51
        },
        "outputId": "c3526171-6802-4a61-b7a8-30ae1743d598"
      },
      "source": [
        "# compared to the original minimum and maximum\n",
        "summary(concrete$strength)"
      ],
      "execution_count": 17,
      "outputs": [
        {
          "output_type": "display_data",
          "data": {
            "text/plain": [
              "   Min. 1st Qu.  Median    Mean 3rd Qu.    Max. \n",
              "   2.33   23.71   34.45   35.82   46.13   82.60 "
            ]
          },
          "metadata": {
            "tags": []
          }
        }
      ]
    },
    {
      "cell_type": "code",
      "metadata": {
        "id": "rXKtDt72W_SA",
        "colab_type": "code",
        "colab": {}
      },
      "source": [
        "# create training and test data\n",
        "concrete_train <- concrete_norm[1:773, ]\n",
        "concrete_test <- concrete_norm[774:1030, ]"
      ],
      "execution_count": 0,
      "outputs": []
    },
    {
      "cell_type": "code",
      "metadata": {
        "id": "lX6drYl_W_OZ",
        "colab_type": "code",
        "colab": {
          "base_uri": "https://localhost:8080/",
          "height": 68
        },
        "outputId": "637c6f87-e066-4190-c506-8f6a2280ada0"
      },
      "source": [
        "## Step 3: Training a model on the data ----\n",
        "# train the neuralnet model\n",
        "install.packages(\"neuralnet\")\n",
        "library(neuralnet)"
      ],
      "execution_count": 25,
      "outputs": [
        {
          "output_type": "stream",
          "text": [
            "Installing package into ‘/usr/local/lib/R/site-library’\n",
            "(as ‘lib’ is unspecified)\n",
            "\n"
          ],
          "name": "stderr"
        }
      ]
    },
    {
      "cell_type": "code",
      "metadata": {
        "id": "GS5BCzYCW_KU",
        "colab_type": "code",
        "colab": {}
      },
      "source": [
        "# simple ANN with only a single hidden neuron\n",
        "set.seed(12345) # to guarantee repeatable results\n",
        "concrete_model <- neuralnet(formula = strength ~ cement + slag +\n",
        "                              ash + water + superplastic + \n",
        "                              coarseagg + fineagg + age,\n",
        "                              data = concrete_train)\n"
      ],
      "execution_count": 0,
      "outputs": []
    },
    {
      "cell_type": "code",
      "metadata": {
        "id": "77jvMsi8W_JH",
        "colab_type": "code",
        "colab": {}
      },
      "source": [
        "# visualize the network topology\n",
        "plot(concrete_model)\n"
      ],
      "execution_count": 0,
      "outputs": []
    },
    {
      "cell_type": "code",
      "metadata": {
        "id": "hUXfKxr0W_Dy",
        "colab_type": "code",
        "colab": {}
      },
      "source": [
        "## Step 4: Evaluating model performance ----\n",
        "# obtain model results\n",
        "model_results <- compute(concrete_model, concrete_test[1:8])"
      ],
      "execution_count": 0,
      "outputs": []
    },
    {
      "cell_type": "code",
      "metadata": {
        "id": "awdz_msCW_CS",
        "colab_type": "code",
        "colab": {}
      },
      "source": [
        "# obtain predicted strength values\n",
        "predicted_strength <- model_results$net.result"
      ],
      "execution_count": 0,
      "outputs": []
    },
    {
      "cell_type": "code",
      "metadata": {
        "id": "Cp1vKd2XW-6D",
        "colab_type": "code",
        "colab": {
          "base_uri": "https://localhost:8080/",
          "height": 91
        },
        "outputId": "0161c425-579b-46c7-8173-a115be6a1638"
      },
      "source": [
        "# examine the correlation between predicted and actual values\n",
        "cor(predicted_strength, concrete_test$strength)"
      ],
      "execution_count": 36,
      "outputs": [
        {
          "output_type": "display_data",
          "data": {
            "text/plain": [
              "     [,1]     \n",
              "[1,] 0.8064656"
            ],
            "text/latex": "A matrix: 1 × 1 of type dbl\n\\begin{tabular}{l}\n\t 0.8064656\\\\\n\\end{tabular}\n",
            "text/markdown": "\nA matrix: 1 × 1 of type dbl\n\n| 0.8064656 |\n\n",
            "text/html": [
              "<table>\n",
              "<caption>A matrix: 1 × 1 of type dbl</caption>\n",
              "<tbody>\n",
              "\t<tr><td>0.8064656</td></tr>\n",
              "</tbody>\n",
              "</table>\n"
            ]
          },
          "metadata": {
            "tags": []
          }
        }
      ]
    },
    {
      "cell_type": "code",
      "metadata": {
        "id": "FNhN-3dbW-2q",
        "colab_type": "code",
        "colab": {}
      },
      "source": [
        "## Step 5: Improving model performance ----\n",
        "# a more complex neural network topology with 5 hidden neurons\n",
        "set.seed(12345) # to guarantee repeatable results\n",
        "concrete_model2 <- neuralnet(strength ~ cement + slag +\n",
        "                               ash + water + superplastic + \n",
        "                               coarseagg + fineagg + age,\n",
        "                               data = concrete_train, hidden = 5)\n"
      ],
      "execution_count": 0,
      "outputs": []
    },
    {
      "cell_type": "code",
      "metadata": {
        "id": "IaL1GVadW-zA",
        "colab_type": "code",
        "colab": {}
      },
      "source": [
        "# plot the network\n",
        "plot(concrete_model2)"
      ],
      "execution_count": 0,
      "outputs": []
    },
    {
      "cell_type": "code",
      "metadata": {
        "id": "K7TasZseW-u9",
        "colab_type": "code",
        "colab": {
          "base_uri": "https://localhost:8080/",
          "height": 91
        },
        "outputId": "149106ec-1802-4256-822b-cd80926e9ee3"
      },
      "source": [
        "# evaluate the results as we did before\n",
        "model_results2 <- compute(concrete_model2, concrete_test[1:8])\n",
        "predicted_strength2 <- model_results2$net.result\n",
        "cor(predicted_strength2, concrete_test$strength)"
      ],
      "execution_count": 39,
      "outputs": [
        {
          "output_type": "display_data",
          "data": {
            "text/plain": [
              "     [,1]     \n",
              "[1,] 0.9244533"
            ],
            "text/latex": "A matrix: 1 × 1 of type dbl\n\\begin{tabular}{l}\n\t 0.9244533\\\\\n\\end{tabular}\n",
            "text/markdown": "\nA matrix: 1 × 1 of type dbl\n\n| 0.9244533 |\n\n",
            "text/html": [
              "<table>\n",
              "<caption>A matrix: 1 × 1 of type dbl</caption>\n",
              "<tbody>\n",
              "\t<tr><td>0.9244533</td></tr>\n",
              "</tbody>\n",
              "</table>\n"
            ]
          },
          "metadata": {
            "tags": []
          }
        }
      ]
    },
    {
      "cell_type": "code",
      "metadata": {
        "id": "pICj3z4eW-rB",
        "colab_type": "code",
        "colab": {}
      },
      "source": [
        "# an EVEN MORE complex neural network topology with two hidden layers and custom activation function\n"
      ],
      "execution_count": 0,
      "outputs": []
    },
    {
      "cell_type": "code",
      "metadata": {
        "id": "fSQgPZhFW-k4",
        "colab_type": "code",
        "colab": {}
      },
      "source": [
        "# create a custom softplus activation function\n",
        "softplus <- function(x) { log(1 + exp(x)) }\n",
        "\n",
        "set.seed(12345) # to guarantee repeatable results\n",
        "concrete_model3 <- neuralnet(strength ~ cement + slag +\n",
        "                               ash + water + superplastic + \n",
        "                               coarseagg + fineagg + age,\n",
        "                             data = concrete_train, hidden = c(5, 5), act.fct = softplus)\n"
      ],
      "execution_count": 0,
      "outputs": []
    },
    {
      "cell_type": "code",
      "metadata": {
        "id": "Gjs0GnGBW-h0",
        "colab_type": "code",
        "colab": {}
      },
      "source": [
        "# plot the network\n",
        "plot(concrete_model3)"
      ],
      "execution_count": 0,
      "outputs": []
    },
    {
      "cell_type": "code",
      "metadata": {
        "id": "xBJWTOLUW-ea",
        "colab_type": "code",
        "colab": {}
      },
      "source": [
        "# evaluate the results as we did before\n",
        "model_results3 <- compute(concrete_model3, concrete_test[1:8])\n",
        "predicted_strength3 <- model_results3$net.result\n",
        "cor(predicted_strength3, concrete_test$strength)"
      ],
      "execution_count": 0,
      "outputs": []
    },
    {
      "cell_type": "code",
      "metadata": {
        "id": "xvL93S-mW-bp",
        "colab_type": "code",
        "colab": {}
      },
      "source": [
        "# note that the predicted and actual values are on different scales\n",
        "strengths <- data.frame(\n",
        "  actual = concrete$strength[774:1030],\n",
        "  pred = predicted_strength3\n",
        ")\n",
        "\n",
        "head(strengths, n = 3)\n"
      ],
      "execution_count": 0,
      "outputs": []
    },
    {
      "cell_type": "code",
      "metadata": {
        "id": "y1J-CRisW-X9",
        "colab_type": "code",
        "colab": {}
      },
      "source": [
        "# this doesn't change the correlations (but would affect absolute error)\n",
        "cor(strengths$pred, strengths$actual)\n"
      ],
      "execution_count": 0,
      "outputs": []
    },
    {
      "cell_type": "code",
      "metadata": {
        "id": "Bm8e6xkLW-V6",
        "colab_type": "code",
        "colab": {}
      },
      "source": [
        "# create an unnormalize function to reverse the normalization\n",
        "unnormalize <- function(x) { \n",
        "  return((x * (max(concrete$strength)) -\n",
        "          min(concrete$strength)) + min(concrete$strength))\n",
        "}\n",
        "\n",
        "strengths$pred_new <- unnormalize(strengths$pred)\n",
        "strengths$error <- strengths$pred_new - strengths$actual\n",
        "\n",
        "head(strengths, n = 3)\n",
        "\n",
        "cor(strengths$pred_new, strengths$actual)\n"
      ],
      "execution_count": 0,
      "outputs": []
    },
    {
      "cell_type": "code",
      "metadata": {
        "id": "cxMy5qk-W-QR",
        "colab_type": "code",
        "colab": {}
      },
      "source": [
        "##### Part 2: Support Vector Machines -------------------\n",
        "## Example: Optical Character Recognition ----\n"
      ],
      "execution_count": 0,
      "outputs": []
    },
    {
      "cell_type": "code",
      "metadata": {
        "id": "FffknOSEW-E3",
        "colab_type": "code",
        "colab": {
          "base_uri": "https://localhost:8080/",
          "height": 323
        },
        "outputId": "2b165ea2-751e-4af0-f0ee-c9def368e223"
      },
      "source": [
        "## Step 2: Exploring and preparing the data ----\n",
        "# read in data and examine structure\n",
        "letters <- read.csv(\"https://raw.githubusercontent.com/NSkuhala/Test1/master/letterdata.csv\")\n",
        "str(letters)\n"
      ],
      "execution_count": 21,
      "outputs": [
        {
          "output_type": "stream",
          "text": [
            "'data.frame':\t20000 obs. of  17 variables:\n",
            " $ letter: Factor w/ 26 levels \"A\",\"B\",\"C\",\"D\",..: 20 9 4 14 7 19 2 1 10 13 ...\n",
            " $ xbox  : int  2 5 4 7 2 4 4 1 2 11 ...\n",
            " $ ybox  : int  8 12 11 11 1 11 2 1 2 15 ...\n",
            " $ width : int  3 3 6 6 3 5 5 3 4 13 ...\n",
            " $ height: int  5 7 8 6 1 8 4 2 4 9 ...\n",
            " $ onpix : int  1 2 6 3 1 3 4 1 2 7 ...\n",
            " $ xbar  : int  8 10 10 5 8 8 8 8 10 13 ...\n",
            " $ ybar  : int  13 5 6 9 6 8 7 2 6 2 ...\n",
            " $ x2bar : int  0 5 2 4 6 6 6 2 2 6 ...\n",
            " $ y2bar : int  6 4 6 6 6 9 6 2 6 2 ...\n",
            " $ xybar : int  6 13 10 4 6 5 7 8 12 12 ...\n",
            " $ x2ybar: int  10 3 3 4 5 6 6 2 4 1 ...\n",
            " $ xy2bar: int  8 9 7 10 9 6 6 8 8 9 ...\n",
            " $ xedge : int  0 2 3 6 1 0 2 1 1 8 ...\n",
            " $ xedgey: int  8 8 7 10 7 8 8 6 6 1 ...\n",
            " $ yedge : int  0 4 3 2 5 9 7 2 1 1 ...\n",
            " $ yedgex: int  8 10 9 8 10 7 10 7 7 8 ...\n"
          ],
          "name": "stdout"
        }
      ]
    },
    {
      "cell_type": "code",
      "metadata": {
        "id": "2BsO2foIW9ne",
        "colab_type": "code",
        "colab": {}
      },
      "source": [
        "# divide into training and test data\n",
        "letters_train <- letters[1:16000, ]\n",
        "letters_test  <- letters[16001:20000, ]"
      ],
      "execution_count": 0,
      "outputs": []
    },
    {
      "cell_type": "code",
      "metadata": {
        "id": "ttmKk_E7X4hh",
        "colab_type": "code",
        "colab": {
          "base_uri": "https://localhost:8080/",
          "height": 249
        },
        "outputId": "7eab01cb-1e47-4319-e783-0c95012ba503"
      },
      "source": [
        "## Step 3: Training a model on the data ----\n",
        "# begin by training a simple linear SVM\n",
        "install.packages(\"kernlab\")\n",
        "library(kernlab)\n",
        "letter_classifier <- ksvm(letter ~ ., data = letters_train,\n",
        "                          kernel = \"vanilladot\")\n"
      ],
      "execution_count": 23,
      "outputs": [
        {
          "output_type": "stream",
          "text": [
            "Installing package into ‘/usr/local/lib/R/site-library’\n",
            "(as ‘lib’ is unspecified)\n",
            "\n"
          ],
          "name": "stderr"
        },
        {
          "output_type": "error",
          "ename": "ERROR",
          "evalue": "ignored",
          "traceback": [
            "Error in eval(m$data, parent.frame()): object 'letters_train' not found\nTraceback:\n",
            "1. ksvm(letter ~ ., data = letters_train, kernel = \"vanilladot\")",
            "2. ksvm(letter ~ ., data = letters_train, kernel = \"vanilladot\")",
            "3. .local(x, ...)",
            "4. eval(m$data, parent.frame())",
            "5. eval(m$data, parent.frame())"
          ]
        }
      ]
    },
    {
      "cell_type": "code",
      "metadata": {
        "id": "AdENOJiJX4f7",
        "colab_type": "code",
        "colab": {}
      },
      "source": [
        "# look at basic information about the model\n",
        "letter_classifier\n"
      ],
      "execution_count": 0,
      "outputs": []
    },
    {
      "cell_type": "code",
      "metadata": {
        "id": "tRwUnSSrX4UK",
        "colab_type": "code",
        "colab": {}
      },
      "source": [
        "## Step 4: Evaluating model performance ----\n",
        "# predictions on testing dataset\n",
        "letter_predictions <- predict(letter_classifier, letters_test)\n",
        "\n",
        "head(letter_predictions)\n",
        "\n",
        "table(letter_predictions, letters_test$letter)"
      ],
      "execution_count": 0,
      "outputs": []
    },
    {
      "cell_type": "code",
      "metadata": {
        "id": "jUYvV_twX4Sj",
        "colab_type": "code",
        "colab": {}
      },
      "source": [
        "# look only at agreement vs. non-agreement\n",
        "# construct a vector of TRUE/FALSE indicating correct/incorrect predictions\n",
        "agreement <- letter_predictions == letters_test$letter\n",
        "table(agreement)\n",
        "prop.table(table(agreement))"
      ],
      "execution_count": 0,
      "outputs": []
    },
    {
      "cell_type": "code",
      "metadata": {
        "id": "0wMMeBWMX4RB",
        "colab_type": "code",
        "colab": {}
      },
      "source": [
        "## Step 5: Improving model performance ----\n",
        "\n",
        "# change to a RBF kernel\n",
        "RNGversion(\"3.5.2\") # use an older random number generator to match the book\n",
        "set.seed(12345)\n",
        "letter_classifier_rbf <- ksvm(letter ~ ., data = letters_train, kernel = \"rbfdot\")\n",
        "letter_predictions_rbf <- predict(letter_classifier_rbf, letters_test)\n",
        "\n",
        "agreement_rbf <- letter_predictions_rbf == letters_test$letter\n",
        "table(agreement_rbf)\n",
        "prop.table(table(agreement_rbf))"
      ],
      "execution_count": 0,
      "outputs": []
    },
    {
      "cell_type": "code",
      "metadata": {
        "id": "k2R4Cvy2X4PO",
        "colab_type": "code",
        "colab": {}
      },
      "source": [
        ""
      ],
      "execution_count": 0,
      "outputs": []
    },
    {
      "cell_type": "code",
      "metadata": {
        "id": "KwkjgejzX4GH",
        "colab_type": "code",
        "colab": {}
      },
      "source": [
        "# test various values of the cost parameter\n",
        "cost_values <- c(1, seq(from = 5, to = 40, by = 5))\n",
        "\n",
        "RNGversion(\"3.5.2\") # use an older random number generator to match the book\n",
        "accuracy_values <- sapply(cost_values, function(x) {\n",
        "  set.seed(12345)\n",
        "  m <- ksvm(letter ~ ., data = letters_train,\n",
        "            kernel = \"rbfdot\", C = x)\n",
        "  pred <- predict(m, letters_test)\n",
        "  agree <- ifelse(pred == letters_test$letter, 1, 0)\n",
        "  accuracy <- sum(agree) / nrow(letters_test)\n",
        "  return (accuracy)\n",
        "})\n",
        "\n",
        "plot(cost_values, accuracy_values, type = \"b\")\n"
      ],
      "execution_count": 0,
      "outputs": []
    },
    {
      "cell_type": "code",
      "metadata": {
        "id": "LpZtnl6tX4Eo",
        "colab_type": "code",
        "colab": {}
      },
      "source": [
        ""
      ],
      "execution_count": 0,
      "outputs": []
    },
    {
      "cell_type": "code",
      "metadata": {
        "id": "QZcihgPIX3-u",
        "colab_type": "code",
        "colab": {}
      },
      "source": [
        ""
      ],
      "execution_count": 0,
      "outputs": []
    },
    {
      "cell_type": "code",
      "metadata": {
        "id": "VRYo9AcvX36e",
        "colab_type": "code",
        "colab": {}
      },
      "source": [
        ""
      ],
      "execution_count": 0,
      "outputs": []
    }
  ]
}